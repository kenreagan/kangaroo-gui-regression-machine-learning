{
 "cells": [
  {
   "cell_type": "code",
   "execution_count": 34,
   "id": "ac73a881",
   "metadata": {},
   "outputs": [],
   "source": [
    "import matplotlib.pyplot as plt\n",
    "from sklearn.linear_model import LinearRegression\n",
    "from matplotlib.backends.backend_tkagg import FigureCanvasTkAgg, NavigationToolbar2Tk\n",
    "from sklearn.model_selection import train_test_split, GridSearchCV\n",
    "import pandas as pd\n",
    "from sklearn.preprocessing import StandardScaler\n",
    "from sklearn.decomposition import PCA\n",
    "from sklearn.pipeline import Pipeline\n",
    "import tkinter\n",
    "import seaborn as sns\n",
    "from sklearn.svm import SVC\n",
    "from sklearn.metrics import mean_squared_error, r2_score\n",
    "%matplotlib inline"
   ]
  },
  {
   "cell_type": "code",
   "execution_count": 35,
   "id": "f84d7462",
   "metadata": {},
   "outputs": [],
   "source": [
    "class BuildModel:\n",
    "    def __init__(self,data):\n",
    "        self.data = data\n",
    "    \n",
    "    def disphead(self, rows=5):\n",
    "        return self.data.head(rows)\n",
    "    \n",
    "    def removena(self):\n",
    "        self.data = self.data.dropna(how='any', axis=1)\n",
    "        plt.figure(figsize=(15,5))\n",
    "        sns.heatmap(self.data.isna())\n",
    "        plt.show()\n",
    "        return self.data\n",
    "    \n",
    "    def preprocess(self):\n",
    "        x = self.data['X'].values\n",
    "        y = self.data['Y'].values\n",
    "        x_train, x_test, y_train, y_test = train_test_split(x.reshape(-1,1), y.reshape(-1,1),\n",
    "                                                            test_size=0.4, random_state=60)\n",
    "        return {\n",
    "            \"x_train\": x_train,\n",
    "            \"x_test\": x_test,\n",
    "            \"y_train\":y_train,\n",
    "            \"y_test\": y_test\n",
    "        }\n",
    "\n",
    "    def build(self):\n",
    "        pipe = Pipeline([('lr', LinearRegression())])\n",
    "        mod = pipe.fit(self.preprocess()['x_train'], self.preprocess()['y_train'])\n",
    "        print(\"perfomance on train set %f\"%mod.score(self.preprocess()['x_train'], self.preprocess()['y_train']))\n",
    "        print(\"perfomance on test set %f\"%mod.score(self.preprocess()['x_test'], self.preprocess()['y_test']))\n",
    "        return mod\n",
    "        \n",
    "    def predict(self):\n",
    "        res = self.build()\n",
    "        y_pred = res.predict(self.preprocess()['x_test'])\n",
    "        return y_pred\n",
    "    \n",
    "    def evaluate(self):\n",
    "#         print(\"mean squared error %f\"%mean_squared_error(self.preprocess()['y_test'], self.predict()))\n",
    "        print(\"r2 score %f\"%r2_score(self.preprocess()['y_test'], self.predict()))"
   ]
  },
  {
   "cell_type": "code",
   "execution_count": 38,
   "id": "1c8992e4",
   "metadata": {},
   "outputs": [
    {
     "data": {
      "image/png": "[encoded data removed]",
      "text/plain": [
       "<Figure size 1366x705 with 1 Axes>"
      ]
     },
     "metadata": {
      "needs_background": "light"
     },
     "output_type": "display_data"
    }
   ],
   "source": [
    "class App:\n",
    "    def __init__(self, root, x_train, y_train):\n",
    "        self.root = root\n",
    "        self.x_train = x_train\n",
    "        self.y_train = y_train\n",
    "        self.plotdata()\n",
    "        \n",
    "    def plotdata(self):\n",
    "        self.frame = tkinter.Frame(self.root)\n",
    "        fig, axis = plt.subplots(figsize=(30,10))\n",
    "        axis.scatter(self.x_train, self.y_train)\n",
    "        canvas = FigureCanvasTkAgg(fig, master=self.root)\n",
    "        canvas.get_tk_widget().pack()\n",
    "        toolbar = NavigationToolbar2Tk(canvas,self.root)\n",
    "        toolbar.update()\n",
    "        canvas.get_tk_widget().pack()\n",
    "        \n",
    "        \n",
    "if __name__ == '__main__':\n",
    "    data = pd.read_csv('../Data/regdata/kangaroo/2056204_nose.csv').dropna(axis=0)\n",
    "    model = BuildModel(data)\n",
    "    root = tkinter.Tk()\n",
    "    app = App(root, model.preprocess()['x_train'], model.preprocess()['y_train'])\n",
    "    root.mainloop()"
   ]
  },
  {
   "cell_type": "code",
   "execution_count": null,
   "id": "4d9d03af",
   "metadata": {},
   "outputs": [],
   "source": []
  }
 ],
 "metadata": {
  "kernelspec": {
   "display_name": "Python 3",
   "language": "python",
   "name": "python3"
  },
  "language_info": {
   "codemirror_mode": {
    "name": "ipython",
    "version": 3
   },
   "file_extension": ".py",
   "mimetype": "text/x-python",
   "name": "python",
   "nbconvert_exporter": "python",
   "pygments_lexer": "ipython3",
   "version": "3.8.10"
  }
 },
 "nbformat": 4,
 "nbformat_minor": 5
}
